{
  "nbformat": 4,
  "nbformat_minor": 0,
  "metadata": {
    "colab": {
      "provenance": [],
      "mount_file_id": "1ikYERw6y0-Rgl0QBSD7XwzE3xFAENRjS",
      "authorship_tag": "ABX9TyPv5K6OjESzhQvZvTZapgYQ",
      "include_colab_link": true
    },
    "kernelspec": {
      "name": "python3",
      "display_name": "Python 3"
    },
    "language_info": {
      "name": "python"
    }
  },
  "cells": [
    {
      "cell_type": "markdown",
      "metadata": {
        "id": "view-in-github",
        "colab_type": "text"
      },
      "source": [
        "<a href=\"https://colab.research.google.com/github/aivan2798/01/blob/main/smartbokx_bert.ipynb\" target=\"_parent\"><img src=\"https://colab.research.google.com/assets/colab-badge.svg\" alt=\"Open In Colab\"/></a>"
      ]
    },
    {
      "cell_type": "code",
      "execution_count": 1,
      "metadata": {
        "colab": {
          "base_uri": "https://localhost:8080/"
        },
        "id": "EJdGVtrS8im5",
        "outputId": "e7716646-2956-4170-8f78-34020623c2d9"
      },
      "outputs": [
        {
          "output_type": "stream",
          "name": "stdout",
          "text": [
            "Mounted at /content/drive\n"
          ]
        }
      ],
      "source": [
        "from google.colab import drive\n",
        "drive.mount('/content/drive')"
      ]
    },
    {
      "cell_type": "code",
      "source": [
        "import pandas as pd\n",
        "from transformers import BertTokenizer, BertModel\n",
        "import torch"
      ],
      "metadata": {
        "id": "W_ARGsZ09llf"
      },
      "execution_count": 2,
      "outputs": []
    },
    {
      "cell_type": "code",
      "source": [
        "notes_data = pd.read_csv('/content/drive/MyDrive/notes/memory_1722173127335.csv')\n",
        "notes_data.tail()"
      ],
      "metadata": {
        "colab": {
          "base_uri": "https://localhost:8080/",
          "height": 206
        },
        "id": "-5PC4IVl9xJu",
        "outputId": "0fd8b6d9-f45c-4914-c388-2c76308ef353"
      },
      "execution_count": 6,
      "outputs": [
        {
          "output_type": "execute_result",
          "data": {
            "text/plain": [
              "     note_id  note_index                                         note_title  \\\n",
              "138        5           0                   https://vm.tiktok.com/ZMMXJxj8q/   \n",
              "139        4           0                   https://vm.tiktok.com/ZMMCoEnkN/   \n",
              "140        3           0  https://www.researchgate.net/publication/33315...   \n",
              "141        2           0                   https://vm.tiktok.com/ZMMCrb6xv/   \n",
              "142        1           0                     https://t.me/friendsforever265   \n",
              "\n",
              "                                             note_link  \\\n",
              "138                   https://vm.tiktok.com/ZMMXJxj8q/   \n",
              "139                   https://vm.tiktok.com/ZMMCoEnkN/   \n",
              "140  https://www.researchgate.net/publication/33315...   \n",
              "141                   https://vm.tiktok.com/ZMMCrb6xv/   \n",
              "142                     https://t.me/friendsforever265   \n",
              "\n",
              "                                      note_description  \n",
              "138                           Jesus as a black African  \n",
              "139  No time to waste, any money you see, you thief...  \n",
              "140  Research gate notes on input layers and CNN mo...  \n",
              "141          Sadnguru talking about heaven and society  \n",
              "142  Link to the friends forever telegram group wit...  "
            ],
            "text/html": [
              "\n",
              "  <div id=\"df-fd81bc0b-db64-418b-bc39-a1c8d5b3cb1a\" class=\"colab-df-container\">\n",
              "    <div>\n",
              "<style scoped>\n",
              "    .dataframe tbody tr th:only-of-type {\n",
              "        vertical-align: middle;\n",
              "    }\n",
              "\n",
              "    .dataframe tbody tr th {\n",
              "        vertical-align: top;\n",
              "    }\n",
              "\n",
              "    .dataframe thead th {\n",
              "        text-align: right;\n",
              "    }\n",
              "</style>\n",
              "<table border=\"1\" class=\"dataframe\">\n",
              "  <thead>\n",
              "    <tr style=\"text-align: right;\">\n",
              "      <th></th>\n",
              "      <th>note_id</th>\n",
              "      <th>note_index</th>\n",
              "      <th>note_title</th>\n",
              "      <th>note_link</th>\n",
              "      <th>note_description</th>\n",
              "    </tr>\n",
              "  </thead>\n",
              "  <tbody>\n",
              "    <tr>\n",
              "      <th>138</th>\n",
              "      <td>5</td>\n",
              "      <td>0</td>\n",
              "      <td>https://vm.tiktok.com/ZMMXJxj8q/</td>\n",
              "      <td>https://vm.tiktok.com/ZMMXJxj8q/</td>\n",
              "      <td>Jesus as a black African</td>\n",
              "    </tr>\n",
              "    <tr>\n",
              "      <th>139</th>\n",
              "      <td>4</td>\n",
              "      <td>0</td>\n",
              "      <td>https://vm.tiktok.com/ZMMCoEnkN/</td>\n",
              "      <td>https://vm.tiktok.com/ZMMCoEnkN/</td>\n",
              "      <td>No time to waste, any money you see, you thief...</td>\n",
              "    </tr>\n",
              "    <tr>\n",
              "      <th>140</th>\n",
              "      <td>3</td>\n",
              "      <td>0</td>\n",
              "      <td>https://www.researchgate.net/publication/33315...</td>\n",
              "      <td>https://www.researchgate.net/publication/33315...</td>\n",
              "      <td>Research gate notes on input layers and CNN mo...</td>\n",
              "    </tr>\n",
              "    <tr>\n",
              "      <th>141</th>\n",
              "      <td>2</td>\n",
              "      <td>0</td>\n",
              "      <td>https://vm.tiktok.com/ZMMCrb6xv/</td>\n",
              "      <td>https://vm.tiktok.com/ZMMCrb6xv/</td>\n",
              "      <td>Sadnguru talking about heaven and society</td>\n",
              "    </tr>\n",
              "    <tr>\n",
              "      <th>142</th>\n",
              "      <td>1</td>\n",
              "      <td>0</td>\n",
              "      <td>https://t.me/friendsforever265</td>\n",
              "      <td>https://t.me/friendsforever265</td>\n",
              "      <td>Link to the friends forever telegram group wit...</td>\n",
              "    </tr>\n",
              "  </tbody>\n",
              "</table>\n",
              "</div>\n",
              "    <div class=\"colab-df-buttons\">\n",
              "\n",
              "  <div class=\"colab-df-container\">\n",
              "    <button class=\"colab-df-convert\" onclick=\"convertToInteractive('df-fd81bc0b-db64-418b-bc39-a1c8d5b3cb1a')\"\n",
              "            title=\"Convert this dataframe to an interactive table.\"\n",
              "            style=\"display:none;\">\n",
              "\n",
              "  <svg xmlns=\"http://www.w3.org/2000/svg\" height=\"24px\" viewBox=\"0 -960 960 960\">\n",
              "    <path d=\"M120-120v-720h720v720H120Zm60-500h600v-160H180v160Zm220 220h160v-160H400v160Zm0 220h160v-160H400v160ZM180-400h160v-160H180v160Zm440 0h160v-160H620v160ZM180-180h160v-160H180v160Zm440 0h160v-160H620v160Z\"/>\n",
              "  </svg>\n",
              "    </button>\n",
              "\n",
              "  <style>\n",
              "    .colab-df-container {\n",
              "      display:flex;\n",
              "      gap: 12px;\n",
              "    }\n",
              "\n",
              "    .colab-df-convert {\n",
              "      background-color: #E8F0FE;\n",
              "      border: none;\n",
              "      border-radius: 50%;\n",
              "      cursor: pointer;\n",
              "      display: none;\n",
              "      fill: #1967D2;\n",
              "      height: 32px;\n",
              "      padding: 0 0 0 0;\n",
              "      width: 32px;\n",
              "    }\n",
              "\n",
              "    .colab-df-convert:hover {\n",
              "      background-color: #E2EBFA;\n",
              "      box-shadow: 0px 1px 2px rgba(60, 64, 67, 0.3), 0px 1px 3px 1px rgba(60, 64, 67, 0.15);\n",
              "      fill: #174EA6;\n",
              "    }\n",
              "\n",
              "    .colab-df-buttons div {\n",
              "      margin-bottom: 4px;\n",
              "    }\n",
              "\n",
              "    [theme=dark] .colab-df-convert {\n",
              "      background-color: #3B4455;\n",
              "      fill: #D2E3FC;\n",
              "    }\n",
              "\n",
              "    [theme=dark] .colab-df-convert:hover {\n",
              "      background-color: #434B5C;\n",
              "      box-shadow: 0px 1px 3px 1px rgba(0, 0, 0, 0.15);\n",
              "      filter: drop-shadow(0px 1px 2px rgba(0, 0, 0, 0.3));\n",
              "      fill: #FFFFFF;\n",
              "    }\n",
              "  </style>\n",
              "\n",
              "    <script>\n",
              "      const buttonEl =\n",
              "        document.querySelector('#df-fd81bc0b-db64-418b-bc39-a1c8d5b3cb1a button.colab-df-convert');\n",
              "      buttonEl.style.display =\n",
              "        google.colab.kernel.accessAllowed ? 'block' : 'none';\n",
              "\n",
              "      async function convertToInteractive(key) {\n",
              "        const element = document.querySelector('#df-fd81bc0b-db64-418b-bc39-a1c8d5b3cb1a');\n",
              "        const dataTable =\n",
              "          await google.colab.kernel.invokeFunction('convertToInteractive',\n",
              "                                                    [key], {});\n",
              "        if (!dataTable) return;\n",
              "\n",
              "        const docLinkHtml = 'Like what you see? Visit the ' +\n",
              "          '<a target=\"_blank\" href=https://colab.research.google.com/notebooks/data_table.ipynb>data table notebook</a>'\n",
              "          + ' to learn more about interactive tables.';\n",
              "        element.innerHTML = '';\n",
              "        dataTable['output_type'] = 'display_data';\n",
              "        await google.colab.output.renderOutput(dataTable, element);\n",
              "        const docLink = document.createElement('div');\n",
              "        docLink.innerHTML = docLinkHtml;\n",
              "        element.appendChild(docLink);\n",
              "      }\n",
              "    </script>\n",
              "  </div>\n",
              "\n",
              "\n",
              "<div id=\"df-236e56f6-0943-475a-8e83-0d30bfb8ebb8\">\n",
              "  <button class=\"colab-df-quickchart\" onclick=\"quickchart('df-236e56f6-0943-475a-8e83-0d30bfb8ebb8')\"\n",
              "            title=\"Suggest charts\"\n",
              "            style=\"display:none;\">\n",
              "\n",
              "<svg xmlns=\"http://www.w3.org/2000/svg\" height=\"24px\"viewBox=\"0 0 24 24\"\n",
              "     width=\"24px\">\n",
              "    <g>\n",
              "        <path d=\"M19 3H5c-1.1 0-2 .9-2 2v14c0 1.1.9 2 2 2h14c1.1 0 2-.9 2-2V5c0-1.1-.9-2-2-2zM9 17H7v-7h2v7zm4 0h-2V7h2v10zm4 0h-2v-4h2v4z\"/>\n",
              "    </g>\n",
              "</svg>\n",
              "  </button>\n",
              "\n",
              "<style>\n",
              "  .colab-df-quickchart {\n",
              "      --bg-color: #E8F0FE;\n",
              "      --fill-color: #1967D2;\n",
              "      --hover-bg-color: #E2EBFA;\n",
              "      --hover-fill-color: #174EA6;\n",
              "      --disabled-fill-color: #AAA;\n",
              "      --disabled-bg-color: #DDD;\n",
              "  }\n",
              "\n",
              "  [theme=dark] .colab-df-quickchart {\n",
              "      --bg-color: #3B4455;\n",
              "      --fill-color: #D2E3FC;\n",
              "      --hover-bg-color: #434B5C;\n",
              "      --hover-fill-color: #FFFFFF;\n",
              "      --disabled-bg-color: #3B4455;\n",
              "      --disabled-fill-color: #666;\n",
              "  }\n",
              "\n",
              "  .colab-df-quickchart {\n",
              "    background-color: var(--bg-color);\n",
              "    border: none;\n",
              "    border-radius: 50%;\n",
              "    cursor: pointer;\n",
              "    display: none;\n",
              "    fill: var(--fill-color);\n",
              "    height: 32px;\n",
              "    padding: 0;\n",
              "    width: 32px;\n",
              "  }\n",
              "\n",
              "  .colab-df-quickchart:hover {\n",
              "    background-color: var(--hover-bg-color);\n",
              "    box-shadow: 0 1px 2px rgba(60, 64, 67, 0.3), 0 1px 3px 1px rgba(60, 64, 67, 0.15);\n",
              "    fill: var(--button-hover-fill-color);\n",
              "  }\n",
              "\n",
              "  .colab-df-quickchart-complete:disabled,\n",
              "  .colab-df-quickchart-complete:disabled:hover {\n",
              "    background-color: var(--disabled-bg-color);\n",
              "    fill: var(--disabled-fill-color);\n",
              "    box-shadow: none;\n",
              "  }\n",
              "\n",
              "  .colab-df-spinner {\n",
              "    border: 2px solid var(--fill-color);\n",
              "    border-color: transparent;\n",
              "    border-bottom-color: var(--fill-color);\n",
              "    animation:\n",
              "      spin 1s steps(1) infinite;\n",
              "  }\n",
              "\n",
              "  @keyframes spin {\n",
              "    0% {\n",
              "      border-color: transparent;\n",
              "      border-bottom-color: var(--fill-color);\n",
              "      border-left-color: var(--fill-color);\n",
              "    }\n",
              "    20% {\n",
              "      border-color: transparent;\n",
              "      border-left-color: var(--fill-color);\n",
              "      border-top-color: var(--fill-color);\n",
              "    }\n",
              "    30% {\n",
              "      border-color: transparent;\n",
              "      border-left-color: var(--fill-color);\n",
              "      border-top-color: var(--fill-color);\n",
              "      border-right-color: var(--fill-color);\n",
              "    }\n",
              "    40% {\n",
              "      border-color: transparent;\n",
              "      border-right-color: var(--fill-color);\n",
              "      border-top-color: var(--fill-color);\n",
              "    }\n",
              "    60% {\n",
              "      border-color: transparent;\n",
              "      border-right-color: var(--fill-color);\n",
              "    }\n",
              "    80% {\n",
              "      border-color: transparent;\n",
              "      border-right-color: var(--fill-color);\n",
              "      border-bottom-color: var(--fill-color);\n",
              "    }\n",
              "    90% {\n",
              "      border-color: transparent;\n",
              "      border-bottom-color: var(--fill-color);\n",
              "    }\n",
              "  }\n",
              "</style>\n",
              "\n",
              "  <script>\n",
              "    async function quickchart(key) {\n",
              "      const quickchartButtonEl =\n",
              "        document.querySelector('#' + key + ' button');\n",
              "      quickchartButtonEl.disabled = true;  // To prevent multiple clicks.\n",
              "      quickchartButtonEl.classList.add('colab-df-spinner');\n",
              "      try {\n",
              "        const charts = await google.colab.kernel.invokeFunction(\n",
              "            'suggestCharts', [key], {});\n",
              "      } catch (error) {\n",
              "        console.error('Error during call to suggestCharts:', error);\n",
              "      }\n",
              "      quickchartButtonEl.classList.remove('colab-df-spinner');\n",
              "      quickchartButtonEl.classList.add('colab-df-quickchart-complete');\n",
              "    }\n",
              "    (() => {\n",
              "      let quickchartButtonEl =\n",
              "        document.querySelector('#df-236e56f6-0943-475a-8e83-0d30bfb8ebb8 button');\n",
              "      quickchartButtonEl.style.display =\n",
              "        google.colab.kernel.accessAllowed ? 'block' : 'none';\n",
              "    })();\n",
              "  </script>\n",
              "</div>\n",
              "\n",
              "    </div>\n",
              "  </div>\n"
            ],
            "application/vnd.google.colaboratory.intrinsic+json": {
              "type": "dataframe",
              "summary": "{\n  \"name\": \"notes_data\",\n  \"rows\": 5,\n  \"fields\": [\n    {\n      \"column\": \"note_id\",\n      \"properties\": {\n        \"dtype\": \"number\",\n        \"std\": 1,\n        \"min\": 1,\n        \"max\": 5,\n        \"num_unique_values\": 5,\n        \"samples\": [\n          4,\n          1,\n          3\n        ],\n        \"semantic_type\": \"\",\n        \"description\": \"\"\n      }\n    },\n    {\n      \"column\": \"note_index\",\n      \"properties\": {\n        \"dtype\": \"number\",\n        \"std\": 0,\n        \"min\": 0,\n        \"max\": 0,\n        \"num_unique_values\": 1,\n        \"samples\": [\n          0\n        ],\n        \"semantic_type\": \"\",\n        \"description\": \"\"\n      }\n    },\n    {\n      \"column\": \"note_title\",\n      \"properties\": {\n        \"dtype\": \"string\",\n        \"num_unique_values\": 5,\n        \"samples\": [\n          \"https://vm.tiktok.com/ZMMCoEnkN/\"\n        ],\n        \"semantic_type\": \"\",\n        \"description\": \"\"\n      }\n    },\n    {\n      \"column\": \"note_link\",\n      \"properties\": {\n        \"dtype\": \"string\",\n        \"num_unique_values\": 5,\n        \"samples\": [\n          \"https://vm.tiktok.com/ZMMCoEnkN/\"\n        ],\n        \"semantic_type\": \"\",\n        \"description\": \"\"\n      }\n    },\n    {\n      \"column\": \"note_description\",\n      \"properties\": {\n        \"dtype\": \"string\",\n        \"num_unique_values\": 5,\n        \"samples\": [\n          \"No time to waste, any money you see, you thief it. \"\n        ],\n        \"semantic_type\": \"\",\n        \"description\": \"\"\n      }\n    }\n  ]\n}"
            }
          },
          "metadata": {},
          "execution_count": 6
        }
      ]
    },
    {
      "cell_type": "code",
      "source": [
        "note_titles = notes_data['note_title']\n",
        "note_links = notes_data['note_link']\n",
        "note_descriptions = notes_data['note_description']\n",
        "note_descriptions.head()"
      ],
      "metadata": {
        "colab": {
          "base_uri": "https://localhost:8080/"
        },
        "id": "gp8eYFWg-W3E",
        "outputId": "2216d4b9-6016-44bb-b31f-ce00b5f68a94"
      },
      "execution_count": 9,
      "outputs": [
        {
          "output_type": "execute_result",
          "data": {
            "text/plain": [
              "0                               Mars rover deployment \n",
              "1                        White horse in paris olympics\n",
              "2    Why everone thought that 2012 was the end of t...\n",
              "3                      Your cells are fighting for you\n",
              "4                      Bird helping rat cross the road\n",
              "Name: note_description, dtype: object"
            ]
          },
          "metadata": {},
          "execution_count": 9
        }
      ]
    },
    {
      "cell_type": "code",
      "source": [
        "def genBatchTokens(text):\n",
        "  tokenizer = BertTokenizer.from_pretrained('bert-base-uncased')\n",
        "  tokens = tokenizer.batch_encode_plus(text, padding=True,add_special_tokens=True,truncation=True,return_tensors = \"pt\")\n",
        "  return tokens\n",
        "\n",
        "def genToken(text):\n",
        "  tokenizer = BertTokenizer.from_pretrained('bert-base-uncased')\n",
        "  tokens = tokenizer.encode_plus(text, padding=True,add_special_tokens=True,truncation=True,return_tensors = \"pt\")\n",
        "  return tokens\n",
        "\n",
        "def genEmbeddings(tokens):\n",
        "  model = BertModel.from_pretrained('bert-base-uncased')\n",
        "  model.eval()\n",
        "  with torch.no_grad():\n",
        "    embeddings = model(tokens['input_ids'],tokens['attention_mask'])\n",
        "  return embeddings"
      ],
      "metadata": {
        "id": "SZU5TMRm-wbs"
      },
      "execution_count": 16,
      "outputs": []
    },
    {
      "cell_type": "code",
      "source": [
        "note_descriptions_tokens = genBatchTokens(note_descriptions)\n",
        "print(note_descriptions_tokens.keys())\n",
        "print(note_descriptions_tokens['input_ids'].shape)\n",
        "print(note_descriptions_tokens['attention_mask'].shape)\n",
        "#print(note_descriptions_tokens)\n",
        "print(note_descriptions_tokens['input_ids'])"
      ],
      "metadata": {
        "colab": {
          "base_uri": "https://localhost:8080/"
        },
        "id": "FkwaxPpY-vEM",
        "outputId": "a32b2bd7-03c6-430e-d564-69a1214203ec"
      },
      "execution_count": 15,
      "outputs": [
        {
          "output_type": "stream",
          "name": "stdout",
          "text": [
            "dict_keys(['input_ids', 'token_type_ids', 'attention_mask'])\n",
            "torch.Size([143, 48])\n",
            "torch.Size([143, 48])\n",
            "tensor([[  101,  7733, 13631,  ...,     0,     0,     0],\n",
            "        [  101,  2317,  3586,  ...,     0,     0,     0],\n",
            "        [  101,  2339,  2412,  ...,     0,     0,     0],\n",
            "        ...,\n",
            "        [  101,  2470,  4796,  ...,     0,     0,     0],\n",
            "        [  101,  6517,  3070,  ...,     0,     0,     0],\n",
            "        [  101,  4957,  2000,  ...,     0,     0,     0]])\n"
          ]
        }
      ]
    },
    {
      "cell_type": "code",
      "source": [
        "note_embeddings = genEmbeddings(note_descriptions_tokens)\n",
        "print(note_embeddings.keys())\n",
        "print(note_embeddings['last_hidden_state'].shape)\n",
        "last_hidden_state = note_embeddings['last_hidden_state']\n",
        "print(last_hidden_state)"
      ],
      "metadata": {
        "id": "n0yF3HboAzVQ"
      },
      "execution_count": null,
      "outputs": []
    },
    {
      "cell_type": "code",
      "source": [
        "print(last_hidden_state)"
      ],
      "metadata": {
        "colab": {
          "base_uri": "https://localhost:8080/"
        },
        "id": "d-iM3IUHCxL0",
        "outputId": "8b71b9f0-434f-4551-ff36-fc3090b66665"
      },
      "execution_count": 25,
      "outputs": [
        {
          "output_type": "stream",
          "name": "stdout",
          "text": [
            "tensor([[[-1.1666e+00, -2.3682e-01, -4.2736e-01,  ..., -3.4768e-01,\n",
            "           1.4737e-01,  2.6906e-01],\n",
            "         [-3.6302e-01,  1.1102e+00,  5.9645e-01,  ..., -1.9571e-01,\n",
            "           4.4804e-01, -1.7184e-01],\n",
            "         [-4.7832e-01,  3.3486e-01,  3.5181e-01,  ..., -6.6172e-01,\n",
            "           2.0434e-01, -6.0178e-01],\n",
            "         ...,\n",
            "         [-5.9421e-01, -3.9434e-02,  3.1631e-01,  ..., -3.9479e-02,\n",
            "           2.6391e-01,  2.8256e-01],\n",
            "         [-5.7853e-01, -5.9667e-02,  3.0473e-01,  ..., -3.4475e-02,\n",
            "           2.3856e-01,  2.7773e-01],\n",
            "         [-5.5239e-01, -3.2775e-02,  2.9569e-01,  ..., -5.0502e-02,\n",
            "           2.5698e-01,  2.6989e-01]],\n",
            "\n",
            "        [[-6.2571e-01, -2.1430e-01, -2.9222e-01,  ..., -1.1877e-01,\n",
            "           5.5669e-02,  3.1316e-01],\n",
            "         [-2.6159e-01,  1.5403e-02,  5.2451e-02,  ..., -1.8669e-01,\n",
            "           2.3264e-02, -2.7804e-01],\n",
            "         [ 2.9261e-01, -4.9351e-01,  3.0551e-02,  ..., -7.8159e-01,\n",
            "          -5.6005e-01, -4.8374e-01],\n",
            "         ...,\n",
            "         [-3.0209e-01, -1.7618e-01, -1.7099e-01,  ..., -1.6543e-01,\n",
            "           2.0239e-01, -6.8638e-02],\n",
            "         [-7.5116e-01, -7.2245e-01, -7.5245e-01,  ...,  4.3515e-02,\n",
            "           1.9321e-01,  1.6336e-01],\n",
            "         [-2.9325e-01, -2.5437e-01, -2.6518e-01,  ..., -1.9514e-01,\n",
            "           2.7464e-01,  5.3087e-02]],\n",
            "\n",
            "        [[ 1.0434e-02,  1.5332e-01, -5.0784e-02,  ..., -3.8096e-01,\n",
            "           5.1048e-01,  1.4341e-01],\n",
            "         [ 4.3210e-01,  2.5338e-01, -2.4875e-01,  ...,  4.5572e-02,\n",
            "           9.8464e-01, -6.7873e-02],\n",
            "         [-5.3019e-01, -7.6114e-02,  1.2071e+00,  ..., -2.4876e-01,\n",
            "           1.0666e+00, -6.6156e-01],\n",
            "         ...,\n",
            "         [ 1.0987e-01, -1.0587e-01,  9.4881e-02,  ...,  3.4353e-02,\n",
            "           2.8113e-01, -1.2258e-01],\n",
            "         [ 1.4420e-01, -5.6550e-02,  1.0992e-01,  ...,  3.7765e-02,\n",
            "           2.8699e-01, -1.5943e-01],\n",
            "         [ 2.9136e-01, -1.7468e-02,  1.6237e-01,  ...,  6.4770e-03,\n",
            "           3.5949e-01, -2.0197e-01]],\n",
            "\n",
            "        ...,\n",
            "\n",
            "        [[-3.2562e-01, -2.8429e-01, -5.2654e-01,  ..., -1.9786e-01,\n",
            "          -2.9460e-03,  5.0549e-01],\n",
            "         [-1.1666e-01,  8.4760e-02, -5.9650e-01,  ..., -1.1041e-01,\n",
            "           9.3594e-02, -4.1363e-03],\n",
            "         [ 1.5595e-01, -2.1770e-01, -3.7261e-01,  ..., -1.3631e-01,\n",
            "           5.6005e-01, -2.6503e-03],\n",
            "         ...,\n",
            "         [-2.3967e-01, -3.1643e-02, -3.0803e-02,  ..., -2.1135e-01,\n",
            "          -2.2120e-01,  9.1072e-02],\n",
            "         [-1.9402e-01, -1.1936e-01,  1.0824e-02,  ..., -2.0384e-01,\n",
            "          -2.3832e-01,  7.6418e-02],\n",
            "         [-1.3873e-01, -1.4691e-01, -1.8943e-02,  ..., -2.2920e-01,\n",
            "          -2.2818e-01,  2.0901e-02]],\n",
            "\n",
            "        [[-9.9690e-02,  3.9313e-02, -6.5172e-01,  ..., -2.5002e-01,\n",
            "           3.7454e-01, -2.6745e-02],\n",
            "         [-2.1988e-01,  1.0547e-01, -3.1398e-01,  ..., -3.2412e-01,\n",
            "           1.8078e-01, -1.0907e-01],\n",
            "         [-3.2221e-01, -7.5940e-01, -5.6653e-01,  ..., -6.1297e-02,\n",
            "          -7.3686e-01, -4.3151e-01],\n",
            "         ...,\n",
            "         [ 3.8599e-01, -3.9763e-02,  7.2869e-06,  ..., -1.1100e-01,\n",
            "           5.7823e-03, -3.5080e-01],\n",
            "         [ 4.7535e-01,  1.3750e-01, -1.9391e-01,  ..., -5.2218e-02,\n",
            "           2.9335e-02, -2.1794e-01],\n",
            "         [ 7.2343e-01,  2.1892e-01, -8.1904e-02,  ..., -1.9255e-02,\n",
            "           1.4783e-01, -2.4945e-01]],\n",
            "\n",
            "        [[-1.6823e-01, -1.8924e-01, -3.1737e-02,  ..., -1.5270e-01,\n",
            "           1.1419e-01,  2.1382e-01],\n",
            "         [ 2.2141e-01, -5.6060e-01,  6.7427e-02,  ...,  4.6567e-01,\n",
            "           8.3571e-01, -9.9008e-02],\n",
            "         [ 1.3460e-01, -2.2267e-01, -8.5424e-02,  ..., -2.9160e-02,\n",
            "           5.0021e-01, -3.8363e-01],\n",
            "         ...,\n",
            "         [ 3.4165e-02, -3.3716e-01,  3.8755e-02,  ...,  2.6066e-02,\n",
            "           1.2611e-02, -7.4659e-01],\n",
            "         [ 2.2102e-01, -1.0786e-01,  1.8737e-01,  ...,  1.2474e-01,\n",
            "          -8.0788e-02, -4.5146e-01],\n",
            "         [ 6.2317e-02, -6.3512e-01, -5.0412e-02,  ...,  3.9921e-01,\n",
            "           2.0576e-01, -6.9830e-01]]])\n"
          ]
        }
      ]
    },
    {
      "cell_type": "code",
      "source": [
        "!pip install pinecone-client"
      ],
      "metadata": {
        "colab": {
          "base_uri": "https://localhost:8080/"
        },
        "id": "9OLUJZS7BdUa",
        "outputId": "0f0f8bd0-7d56-4564-df70-e79227cd83d5"
      },
      "execution_count": 19,
      "outputs": [
        {
          "output_type": "stream",
          "name": "stdout",
          "text": [
            "Collecting pinecone-client\n",
            "  Downloading pinecone_client-5.0.0-py3-none-any.whl.metadata (19 kB)\n",
            "Requirement already satisfied: certifi>=2019.11.17 in /usr/local/lib/python3.10/dist-packages (from pinecone-client) (2024.7.4)\n",
            "Collecting pinecone-plugin-inference==1.0.2 (from pinecone-client)\n",
            "  Downloading pinecone_plugin_inference-1.0.2-py3-none-any.whl.metadata (2.2 kB)\n",
            "Collecting pinecone-plugin-interface<0.0.8,>=0.0.7 (from pinecone-client)\n",
            "  Downloading pinecone_plugin_interface-0.0.7-py3-none-any.whl.metadata (1.2 kB)\n",
            "Requirement already satisfied: tqdm>=4.64.1 in /usr/local/lib/python3.10/dist-packages (from pinecone-client) (4.66.4)\n",
            "Requirement already satisfied: typing-extensions>=3.7.4 in /usr/local/lib/python3.10/dist-packages (from pinecone-client) (4.12.2)\n",
            "Requirement already satisfied: urllib3>=1.26.0 in /usr/local/lib/python3.10/dist-packages (from pinecone-client) (2.0.7)\n",
            "Downloading pinecone_client-5.0.0-py3-none-any.whl (244 kB)\n",
            "\u001b[2K   \u001b[90m━━━━━━━━━━━━━━━━━━━━━━━━━━━━━━━━━━━━━━━━\u001b[0m \u001b[32m244.8/244.8 kB\u001b[0m \u001b[31m8.4 MB/s\u001b[0m eta \u001b[36m0:00:00\u001b[0m\n",
            "\u001b[?25hDownloading pinecone_plugin_inference-1.0.2-py3-none-any.whl (117 kB)\n",
            "\u001b[2K   \u001b[90m━━━━━━━━━━━━━━━━━━━━━━━━━━━━━━━━━━━━━━━━\u001b[0m \u001b[32m117.6/117.6 kB\u001b[0m \u001b[31m8.6 MB/s\u001b[0m eta \u001b[36m0:00:00\u001b[0m\n",
            "\u001b[?25hDownloading pinecone_plugin_interface-0.0.7-py3-none-any.whl (6.2 kB)\n",
            "Installing collected packages: pinecone-plugin-interface, pinecone-plugin-inference, pinecone-client\n",
            "Successfully installed pinecone-client-5.0.0 pinecone-plugin-inference-1.0.2 pinecone-plugin-interface-0.0.7\n"
          ]
        }
      ]
    },
    {
      "cell_type": "code",
      "source": [
        "from pinecone import Pinecone\n",
        "\n",
        "pc = Pinecone(api_key=\"c8119aab-b980-40e1-af06-abff6e64a53c\")\n",
        "index = pc.Index(\"smart-bokx\")"
      ],
      "metadata": {
        "id": "waE3JnJpBvXb"
      },
      "execution_count": 20,
      "outputs": []
    },
    {
      "cell_type": "code",
      "source": [
        "from re import X\n",
        "for lhs in range(len(last_hidden_state)):\n",
        "  print(lhs)\n",
        "  #xdense_embedding = torch.mean(lhs, dim=1).squeeze().numpy()\n",
        "  #print(\"Dense vector:\", xdense_embedding)"
      ],
      "metadata": {
        "id": "iO1v7G6CCW4m"
      },
      "execution_count": null,
      "outputs": []
    },
    {
      "cell_type": "code",
      "source": [
        "dense_embeddings = torch.mean(last_hidden_state, dim=1).squeeze().numpy()\n",
        "\n",
        "print(\"Dense vector:\", dense_embeddings)"
      ],
      "metadata": {
        "colab": {
          "base_uri": "https://localhost:8080/"
        },
        "id": "kj2Pi2bKCGpu",
        "outputId": "43320ed8-5a7f-4213-9d8a-5dd332be86b8"
      },
      "execution_count": 27,
      "outputs": [
        {
          "output_type": "stream",
          "name": "stdout",
          "text": [
            "Dense vector: [[-0.6078871  -0.07106092  0.19682227 ... -0.09283213  0.24800205\n",
            "   0.24861921]\n",
            " [-0.4114375  -0.31500018 -0.3151264  ... -0.15914041  0.15679602\n",
            "   0.03730177]\n",
            " [-0.02879488 -0.13394134  0.11084998 ...  0.02291251  0.34594008\n",
            "  -0.2149346 ]\n",
            " ...\n",
            " [-0.2874277  -0.21148483 -0.17862366 ... -0.0578384  -0.22416158\n",
            "   0.08797896]\n",
            " [ 0.16405953 -0.16003384 -0.17841762 ... -0.06285904  0.0317183\n",
            "  -0.34999394]\n",
            " [ 0.1613981  -0.14817823  0.3194487  ... -0.03285281  0.00568046\n",
            "  -0.26486063]]\n"
          ]
        }
      ]
    },
    {
      "cell_type": "code",
      "source": [
        "def addToPinecons(vec_id,vectors,meta_data):\n",
        "  user_id = \"user1\"\n",
        "  index.upsert(\n",
        "    vectors=[\n",
        "        {\n",
        "            \"id\": vec_id,\n",
        "            \"values\": vectors,\n",
        "            \"metadata\": meta_data\n",
        "        }\n",
        "    ],\n",
        "    namespace= user_id\n",
        ")"
      ],
      "metadata": {
        "id": "v7zfaHWkDVtw"
      },
      "execution_count": 31,
      "outputs": []
    },
    {
      "cell_type": "code",
      "source": [
        "embed_index = 0\n",
        "for dense_embedding in dense_embeddings:\n",
        "  #print(dense_embedding)\n",
        "\n",
        "  print(embed_index)\n",
        "  meta_data = {\n",
        "      \"note_title\": note_titles[embed_index],\n",
        "      \"note_link\": note_links[embed_index],\n",
        "      \"note_description\": note_descriptions[embed_index]\n",
        "  }\n",
        "  addToPinecons(\"note_\"+str(embed_index),dense_embedding.tolist(),meta_data=meta_data)\n",
        "  embed_index += 1"
      ],
      "metadata": {
        "id": "b8FQsTA-B3_A"
      },
      "execution_count": null,
      "outputs": []
    },
    {
      "cell_type": "code",
      "source": [
        "query_string = \"dark history\"\n",
        "gen_query_tokens = genToken(query_string)\n",
        "query_embedding = genEmbeddings(gen_query_tokens)\n",
        "query_embeddings = torch.mean(query_embedding['last_hidden_state'], dim=1).squeeze().numpy()\n",
        "\n",
        "#print(query_embeddings)"
      ],
      "metadata": {
        "id": "YFIyACUgE_Qh"
      },
      "execution_count": 133,
      "outputs": []
    },
    {
      "cell_type": "code",
      "source": [
        "def searchPinecone(query_embeddings,top_k):\n",
        "  user_id = \"user1\"\n",
        "  result = index.query(\n",
        "    namespace=user_id,\n",
        "    vector=query_embeddings,\n",
        "    top_k=top_k,\n",
        "    include_values=True,\n",
        "    include_metadata=True\n",
        "  )\n",
        "\n",
        "  return result"
      ],
      "metadata": {
        "id": "O0JVahYvFSB7"
      },
      "execution_count": 116,
      "outputs": []
    },
    {
      "cell_type": "code",
      "source": [
        "search_result = searchPinecone(query_embeddings.tolist(),5)\n",
        "#print(search_result)\n",
        "#"
      ],
      "metadata": {
        "id": "LRzP0_u3FvNU"
      },
      "execution_count": 134,
      "outputs": []
    },
    {
      "cell_type": "code",
      "source": [
        "matches = search_result['matches']\n",
        "for match in matches:\n",
        "  print(match['metadata']['note_title'])\n",
        "  print(match['metadata']['note_description'])"
      ],
      "metadata": {
        "colab": {
          "base_uri": "https://localhost:8080/"
        },
        "id": "cDd5m6ZLGkQw",
        "outputId": "fd443cde-1b8b-45dc-c3d9-e8f1b03c2db3"
      },
      "execution_count": 135,
      "outputs": [
        {
          "output_type": "stream",
          "name": "stdout",
          "text": [
            "https://vm.tiktok.com/ZMraaJnjr/ This post is shared via TikTok Lite. Download TikTok Lite to enjoy more posts:  https://tiktoklite.onelink.me/qItA?pid=txt_ugg\n",
            "Islam revealed to Mohammed history \n",
            "https://vm.tiktok.com/ZMMXJxj8q/\n",
            "Jesus as a black African\n",
            "https://vm.tiktok.com/ZMrxfgng3/\n",
            "Portal to another world opened\n",
            "https://vm.tiktok.com/ZMrYdddtb/\n",
            "Empaths and mirror people\n",
            "https://vm.tiktok.com/ZMMCrb6xv/\n",
            "Sadnguru talking about heaven and society\n"
          ]
        }
      ]
    }
  ]
}